{
  "nbformat": 4,
  "nbformat_minor": 0,
  "metadata": {
    "colab": {
      "provenance": [],
      "authorship_tag": "ABX9TyN4rWmJdY1qF+GV5xUf8KhD"
    },
    "kernelspec": {
      "name": "python3",
      "display_name": "Python 3"
    },
    "language_info": {
      "name": "python"
    }
  },
  "cells": [
    {
      "cell_type": "code",
      "source": [
        "#Code is mostly adopted from this blog post\n",
        "#https://medium.com/geekculture/price-elasticity-of-demand-using-linear-regression-in-python-part-2-8adb654328e7"
      ],
      "metadata": {
        "id": "MGE62i6tacst"
      },
      "execution_count": 27,
      "outputs": []
    },
    {
      "cell_type": "code",
      "source": [
        "import requests\n",
        "from requests.auth import HTTPBasicAuth\n",
        "import numpy as np\n",
        "import http.client\n",
        "import requests\n",
        "import pandas as pd\n",
        "import json\n",
        "from pandas.io.json import json_normalize\n",
        "from datetime import datetime"
      ],
      "metadata": {
        "id": "8_9N37A4y-zY"
      },
      "execution_count": null,
      "outputs": []
    },
    {
      "cell_type": "code",
      "source": [
        "#Here we use the DefiLlama API to get all of the pools. We will later loop through them\n",
        "response = requests.get(\"\"\"https://yields.llama.fi/pools\"\"\")\n",
        "farming_pools = json.loads(response.content)\n",
        "farming_pools = json_normalize(farming_pools['data'])"
      ],
      "metadata": {
        "id": "pCW5XAk6g4Bu",
        "colab": {
          "base_uri": "https://localhost:8080/"
        },
        "outputId": "c0c78e07-3569-4d83-9680-3b1bd415f089"
      },
      "execution_count": 28,
      "outputs": [
        {
          "output_type": "stream",
          "name": "stderr",
          "text": [
            "<ipython-input-28-654e55cddc53>:4: FutureWarning: pandas.io.json.json_normalize is deprecated, use pandas.json_normalize instead\n",
            "  farming_pools = json_normalize(farming_pools['data'])\n"
          ]
        }
      ]
    },
    {
      "cell_type": "code",
      "source": [
        "#Now filter for the pools of interest\n",
        "usdc_farms = farming_pools[(farming_pools['symbol']=='USDC') & (farming_pools['chain']=='Ethereum')]\n",
        "usdc_farms = usdc_farms[usdc_farms['apy']>0]\n",
        "usdc_farms = usdc_farms[usdc_farms['tvlUsd']>10000000]"
      ],
      "metadata": {
        "id": "yiJPCCw3T6x8"
      },
      "execution_count": 29,
      "outputs": []
    },
    {
      "cell_type": "code",
      "source": [
        "#Creating an empty data frame to append data to when calling DefiLlama API\n",
        "usdc_data = pd.DataFrame(columns=['timestamp', 'tvlUsd', 'apy', 'apyBase', 'apyReward', 'il7d','apyBase7d', 'pools'])"
      ],
      "metadata": {
        "id": "xhyHWKHuwq-W"
      },
      "execution_count": 30,
      "outputs": []
    },
    {
      "cell_type": "code",
      "source": [
        "for i in usdc_farms['pool']:\n",
        "  response = requests.get('https://yields.llama.fi/chart/'+str(i))\n",
        "  erp = json.loads(response.content)\n",
        "  loop_data = json_normalize(erp['data'])\n",
        "  loop_data['pools'] = i\n",
        "  usdc_data = pd.concat([loop_data,usdc_data])"
      ],
      "metadata": {
        "colab": {
          "base_uri": "https://localhost:8080/"
        },
        "id": "DqOavR1CSKBy",
        "outputId": "f0716968-5c16-4d11-8b8a-c612d01abe03"
      },
      "execution_count": 31,
      "outputs": [
        {
          "output_type": "stream",
          "name": "stderr",
          "text": [
            "<ipython-input-31-6f4c8019f3e9>:4: FutureWarning: pandas.io.json.json_normalize is deprecated, use pandas.json_normalize instead\n",
            "  loop_data = json_normalize(erp['data'])\n"
          ]
        }
      ]
    },
    {
      "cell_type": "code",
      "source": [
        "usdc_data = usdc_data.drop_duplicates()"
      ],
      "metadata": {
        "id": "Ib342sVYVrCH"
      },
      "execution_count": 32,
      "outputs": []
    },
    {
      "cell_type": "code",
      "source": [
        "usdc_data = usdc_data.merge(farming_pools,left_on='pools',right_on='pool',how='inner')"
      ],
      "metadata": {
        "id": "VJ1BiHlpWPJS"
      },
      "execution_count": 33,
      "outputs": []
    },
    {
      "cell_type": "code",
      "source": [
        "x_pivot = usdc_data.pivot( index = 'timestamp',columns='project', values='apy_x')\n",
        "x_train = pd.DataFrame(x_pivot.to_records())"
      ],
      "metadata": {
        "id": "5bKNFXexW5La"
      },
      "execution_count": 34,
      "outputs": []
    },
    {
      "cell_type": "code",
      "source": [
        "y_pivot = usdc_data.pivot( index = 'timestamp',columns='project', values='tvlUsd_x')\n",
        "y_train = pd.DataFrame(y_pivot.to_records())"
      ],
      "metadata": {
        "id": "kp5lf5BXWFHo"
      },
      "execution_count": 35,
      "outputs": []
    },
    {
      "cell_type": "code",
      "source": [
        "points = []\n",
        "results_values = {\n",
        "    \"name\": [],\n",
        "    \"price_elasticity\": [],\n",
        "    \"price_mean\": [],\n",
        "    \"quantity_mean\": [],\n",
        "    \"intercept\": [],\n",
        "    \"t_score\":[],\n",
        "    \"slope\": [],\n",
        "    \"coefficient_pvalue\" : [],\n",
        "}\n",
        "#Append x_train with y_train per same product name\n",
        "for column in x_train.columns[1:]:\n",
        "    column_points = []\n",
        "    for i in range(len(x_train[column])):\n",
        "        if not np.isnan(x_train[column][i]) and not np.isnan(y_train[column][i]):\n",
        "            column_points.append((x_train[column][i], y_train[column][i]))\n",
        "    df = pd.DataFrame(list(column_points), columns= ['x_value', 'y_value'])\n",
        "\n",
        "\n",
        "    #Linear Regression Model\n",
        "    import statsmodels.api as sm\n",
        "    x_value = df['x_value']\n",
        "    y_value = df['y_value']\n",
        "    X = sm.add_constant(x_value)\n",
        "    model = sm.OLS(y_value, X)\n",
        "    result = model.fit()\n",
        "    \n",
        "    \n",
        "    #(Null Hypothesis test) Coefficient with a p value less than 0.05\n",
        "    if result.f_pvalue < 0.05:\n",
        "        \n",
        "        rsquared = result.rsquared\n",
        "        coefficient_pvalue = result.f_pvalue\n",
        "        intercept, slope = result.params\n",
        "        mean_price = np.mean(x_value)\n",
        "        mean_quantity = np.mean(y_value)\n",
        "        tintercept, t_score = result.tvalues\n",
        "     \n",
        "        #Price elasticity Formula\n",
        "        price_elasticity = (slope)*(mean_price/mean_quantity)    \n",
        "            \n",
        "        #Append results into dictionary for dataframe\n",
        "        results_values[\"name\"].append(column)\n",
        "        results_values[\"price_elasticity\"].append(price_elasticity)\n",
        "        results_values[\"price_mean\"].append(mean_price)\n",
        "        results_values[\"quantity_mean\"].append(mean_quantity)\n",
        "        results_values[\"intercept\"].append(intercept)\n",
        "        results_values['t_score'].append(t_score)\n",
        "        results_values[\"slope\"].append(slope)\n",
        "        results_values[\"coefficient_pvalue\"].append(coefficient_pvalue)\n",
        "        \n",
        "final_df = pd.DataFrame.from_dict(results_values)\n",
        "df_elasticity = final_df[['name','price_elasticity','t_score','coefficient_pvalue','slope','price_mean','quantity_mean','intercept']]"
      ],
      "metadata": {
        "colab": {
          "base_uri": "https://localhost:8080/"
        },
        "id": "ft5rveNtWTWU",
        "outputId": "4c465c57-fccb-4f96-8d4f-e9ae87cf8016"
      },
      "execution_count": 36,
      "outputs": [
        {
          "output_type": "stream",
          "name": "stderr",
          "text": [
            "/usr/local/lib/python3.8/dist-packages/statsmodels/tsa/tsatools.py:142: FutureWarning: In a future version of pandas all arguments of concat except for the argument 'objs' will be keyword-only\n",
            "  x = pd.concat(x[::order], 1)\n",
            "/usr/local/lib/python3.8/dist-packages/statsmodels/tsa/tsatools.py:142: FutureWarning: In a future version of pandas all arguments of concat except for the argument 'objs' will be keyword-only\n",
            "  x = pd.concat(x[::order], 1)\n",
            "/usr/local/lib/python3.8/dist-packages/statsmodels/tsa/tsatools.py:142: FutureWarning: In a future version of pandas all arguments of concat except for the argument 'objs' will be keyword-only\n",
            "  x = pd.concat(x[::order], 1)\n",
            "/usr/local/lib/python3.8/dist-packages/statsmodels/tsa/tsatools.py:142: FutureWarning: In a future version of pandas all arguments of concat except for the argument 'objs' will be keyword-only\n",
            "  x = pd.concat(x[::order], 1)\n",
            "/usr/local/lib/python3.8/dist-packages/statsmodels/tsa/tsatools.py:142: FutureWarning: In a future version of pandas all arguments of concat except for the argument 'objs' will be keyword-only\n",
            "  x = pd.concat(x[::order], 1)\n",
            "/usr/local/lib/python3.8/dist-packages/statsmodels/tsa/tsatools.py:142: FutureWarning: In a future version of pandas all arguments of concat except for the argument 'objs' will be keyword-only\n",
            "  x = pd.concat(x[::order], 1)\n",
            "/usr/local/lib/python3.8/dist-packages/statsmodels/tsa/tsatools.py:142: FutureWarning: In a future version of pandas all arguments of concat except for the argument 'objs' will be keyword-only\n",
            "  x = pd.concat(x[::order], 1)\n",
            "/usr/local/lib/python3.8/dist-packages/statsmodels/tsa/tsatools.py:142: FutureWarning: In a future version of pandas all arguments of concat except for the argument 'objs' will be keyword-only\n",
            "  x = pd.concat(x[::order], 1)\n",
            "/usr/local/lib/python3.8/dist-packages/statsmodels/tsa/tsatools.py:142: FutureWarning: In a future version of pandas all arguments of concat except for the argument 'objs' will be keyword-only\n",
            "  x = pd.concat(x[::order], 1)\n",
            "/usr/local/lib/python3.8/dist-packages/statsmodels/tsa/tsatools.py:142: FutureWarning: In a future version of pandas all arguments of concat except for the argument 'objs' will be keyword-only\n",
            "  x = pd.concat(x[::order], 1)\n",
            "/usr/local/lib/python3.8/dist-packages/statsmodels/tsa/tsatools.py:142: FutureWarning: In a future version of pandas all arguments of concat except for the argument 'objs' will be keyword-only\n",
            "  x = pd.concat(x[::order], 1)\n"
          ]
        }
      ]
    },
    {
      "cell_type": "code",
      "source": [
        "\n",
        "def divergent_plot(df, values_column, ylabel, xlabel):\n",
        "\n",
        "    #Divergent plot\n",
        "    df['ranking'] = df[values_column].rank( ascending = True).astype(int)\n",
        "    df.sort_values(values_column, ascending =False, inplace = True)\n",
        "    plt.figure(figsize = (12,5), dpi = 80)\n",
        "    plt.hlines(y = df['ranking'] , xmin = 0, xmax = df[values_column], alpha = 0.5, linewidth = 3)\n",
        "    \n",
        "    #Add elasticity labels\n",
        "    for x, y, tex in zip(df[values_column], df['ranking'] , df[values_column]):\n",
        "        plt.text(x, y, round(tex, 2), horizontalalignment='right' if x < 0 else 'left', \n",
        "                 verticalalignment='center', fontdict={'color':'red' if x < 0 else 'green', 'size':10})\n",
        "        \n",
        "    \n",
        "    # Axis and title\n",
        "    plt.gca().set(ylabel= ylabel, xlabel= xlabel)\n",
        "    plt.yticks(df['ranking'])\n",
        "    plt.title(values_column , fontdict={'size':13})\n",
        "    plt.grid(linestyle='--', alpha=0.5)\n",
        "    plt.show()\n",
        "            \n",
        "    \n",
        "    #Adjust Ranking column and print dataframe\n",
        "    pd.set_option('display.width', 4000)\n",
        "    cols = list(df.columns)\n",
        "    cols = [cols[-1]] + cols[:-1]\n",
        "    df = df[cols]\n",
        "    \n",
        "    df = df.iloc[:,:3]\n",
        "    df.set_index('ranking', inplace=True)\n",
        "    display(df)"
      ],
      "metadata": {
        "id": "vgEc7AqGXKmu"
      },
      "execution_count": 37,
      "outputs": []
    },
    {
      "cell_type": "code",
      "source": [
        "import pandas as pd\n",
        "import numpy as np\n",
        "import matplotlib.pyplot as plt\n",
        "pe_plot = divergent_plot(df_elasticity, 'price_elasticity', 'Ranking Number', 'Price Elasticity')\n"
      ],
      "metadata": {
        "colab": {
          "base_uri": "https://localhost:8080/",
          "height": 989
        },
        "id": "6CV_NVkuXf3C",
        "outputId": "ca1e466a-f240-416a-dc88-03905ef26243"
      },
      "execution_count": 38,
      "outputs": [
        {
          "output_type": "stream",
          "name": "stderr",
          "text": [
            "<ipython-input-37-3c1dad839cde>:4: SettingWithCopyWarning: \n",
            "A value is trying to be set on a copy of a slice from a DataFrame.\n",
            "Try using .loc[row_indexer,col_indexer] = value instead\n",
            "\n",
            "See the caveats in the documentation: https://pandas.pydata.org/pandas-docs/stable/user_guide/indexing.html#returning-a-view-versus-a-copy\n",
            "  df['ranking'] = df[values_column].rank( ascending = True).astype(int)\n",
            "/usr/local/lib/python3.8/dist-packages/pandas/util/_decorators.py:311: SettingWithCopyWarning: \n",
            "A value is trying to be set on a copy of a slice from a DataFrame\n",
            "\n",
            "See the caveats in the documentation: https://pandas.pydata.org/pandas-docs/stable/user_guide/indexing.html#returning-a-view-versus-a-copy\n",
            "  return func(*args, **kwargs)\n"
          ]
        },
        {
          "output_type": "display_data",
          "data": {
            "text/plain": [
              "<Figure size 960x400 with 1 Axes>"
            ],
            "image/png": "[encoded data removed]"
          },
          "metadata": {
            "needs_background": "light"
          }
        },
        {
          "output_type": "display_data",
          "data": {
            "text/plain": [
              "                    name  price_elasticity\n",
              "ranking                                   \n",
              "11           morpho-aave          0.943524\n",
              "10              compound          0.894603\n",
              "9              instadapp          0.660358\n",
              "8        morpho-compound          0.371465\n",
              "7                 ribbon          0.347815\n",
              "6                 across          0.141761\n",
              "5              goldfinch         -0.000904\n",
              "4               sherlock         -0.309516\n",
              "3                  euler         -0.427094\n",
              "2                aave-v2         -0.488811\n",
              "1            compound-v3         -2.347263"
            ],
            "text/html": [
              "\n",
              "  <div id=\"df-067b27ff-1647-4818-b6e1-d8b3bbead1e9\">\n",
              "    <div class=\"colab-df-container\">\n",
              "      <div>\n",
              "<style scoped>\n",
              "    .dataframe tbody tr th:only-of-type {\n",
              "        vertical-align: middle;\n",
              "    }\n",
              "\n",
              "    .dataframe tbody tr th {\n",
              "        vertical-align: top;\n",
              "    }\n",
              "\n",
              "    .dataframe thead th {\n",
              "        text-align: right;\n",
              "    }\n",
              "</style>\n",
              "<table border=\"1\" class=\"dataframe\">\n",
              "  <thead>\n",
              "    <tr style=\"text-align: right;\">\n",
              "      <th></th>\n",
              "      <th>name</th>\n",
              "      <th>price_elasticity</th>\n",
              "    </tr>\n",
              "    <tr>\n",
              "      <th>ranking</th>\n",
              "      <th></th>\n",
              "      <th></th>\n",
              "    </tr>\n",
              "  </thead>\n",
              "  <tbody>\n",
              "    <tr>\n",
              "      <th>11</th>\n",
              "      <td>morpho-aave</td>\n",
              "      <td>0.943524</td>\n",
              "    </tr>\n",
              "    <tr>\n",
              "      <th>10</th>\n",
              "      <td>compound</td>\n",
              "      <td>0.894603</td>\n",
              "    </tr>\n",
              "    <tr>\n",
              "      <th>9</th>\n",
              "      <td>instadapp</td>\n",
              "      <td>0.660358</td>\n",
              "    </tr>\n",
              "    <tr>\n",
              "      <th>8</th>\n",
              "      <td>morpho-compound</td>\n",
              "      <td>0.371465</td>\n",
              "    </tr>\n",
              "    <tr>\n",
              "      <th>7</th>\n",
              "      <td>ribbon</td>\n",
              "      <td>0.347815</td>\n",
              "    </tr>\n",
              "    <tr>\n",
              "      <th>6</th>\n",
              "      <td>across</td>\n",
              "      <td>0.141761</td>\n",
              "    </tr>\n",
              "    <tr>\n",
              "      <th>5</th>\n",
              "      <td>goldfinch</td>\n",
              "      <td>-0.000904</td>\n",
              "    </tr>\n",
              "    <tr>\n",
              "      <th>4</th>\n",
              "      <td>sherlock</td>\n",
              "      <td>-0.309516</td>\n",
              "    </tr>\n",
              "    <tr>\n",
              "      <th>3</th>\n",
              "      <td>euler</td>\n",
              "      <td>-0.427094</td>\n",
              "    </tr>\n",
              "    <tr>\n",
              "      <th>2</th>\n",
              "      <td>aave-v2</td>\n",
              "      <td>-0.488811</td>\n",
              "    </tr>\n",
              "    <tr>\n",
              "      <th>1</th>\n",
              "      <td>compound-v3</td>\n",
              "      <td>-2.347263</td>\n",
              "    </tr>\n",
              "  </tbody>\n",
              "</table>\n",
              "</div>\n",
              "      <button class=\"colab-df-convert\" onclick=\"convertToInteractive('df-067b27ff-1647-4818-b6e1-d8b3bbead1e9')\"\n",
              "              title=\"Convert this dataframe to an interactive table.\"\n",
              "              style=\"display:none;\">\n",
              "        \n",
              "  <svg xmlns=\"http://www.w3.org/2000/svg\" height=\"24px\"viewBox=\"0 0 24 24\"\n",
              "       width=\"24px\">\n",
              "    <path d=\"M0 0h24v24H0V0z\" fill=\"none\"/>\n",
              "    <path d=\"M18.56 5.44l.94 2.06.94-2.06 2.06-.94-2.06-.94-.94-2.06-.94 2.06-2.06.94zm-11 1L8.5 8.5l.94-2.06 2.06-.94-2.06-.94L8.5 2.5l-.94 2.06-2.06.94zm10 10l.94 2.06.94-2.06 2.06-.94-2.06-.94-.94-2.06-.94 2.06-2.06.94z\"/><path d=\"M17.41 7.96l-1.37-1.37c-.4-.4-.92-.59-1.43-.59-.52 0-1.04.2-1.43.59L10.3 9.45l-7.72 7.72c-.78.78-.78 2.05 0 2.83L4 21.41c.39.39.9.59 1.41.59.51 0 1.02-.2 1.41-.59l7.78-7.78 2.81-2.81c.8-.78.8-2.07 0-2.86zM5.41 20L4 18.59l7.72-7.72 1.47 1.35L5.41 20z\"/>\n",
              "  </svg>\n",
              "      </button>\n",
              "      \n",
              "  <style>\n",
              "    .colab-df-container {\n",
              "      display:flex;\n",
              "      flex-wrap:wrap;\n",
              "      gap: 12px;\n",
              "    }\n",
              "\n",
              "    .colab-df-convert {\n",
              "      background-color: #E8F0FE;\n",
              "      border: none;\n",
              "      border-radius: 50%;\n",
              "      cursor: pointer;\n",
              "      display: none;\n",
              "      fill: #1967D2;\n",
              "      height: 32px;\n",
              "      padding: 0 0 0 0;\n",
              "      width: 32px;\n",
              "    }\n",
              "\n",
              "    .colab-df-convert:hover {\n",
              "      background-color: #E2EBFA;\n",
              "      box-shadow: 0px 1px 2px rgba(60, 64, 67, 0.3), 0px 1px 3px 1px rgba(60, 64, 67, 0.15);\n",
              "      fill: #174EA6;\n",
              "    }\n",
              "\n",
              "    [theme=dark] .colab-df-convert {\n",
              "      background-color: #3B4455;\n",
              "      fill: #D2E3FC;\n",
              "    }\n",
              "\n",
              "    [theme=dark] .colab-df-convert:hover {\n",
              "      background-color: #434B5C;\n",
              "      box-shadow: 0px 1px 3px 1px rgba(0, 0, 0, 0.15);\n",
              "      filter: drop-shadow(0px 1px 2px rgba(0, 0, 0, 0.3));\n",
              "      fill: #FFFFFF;\n",
              "    }\n",
              "  </style>\n",
              "\n",
              "      <script>\n",
              "        const buttonEl =\n",
              "          document.querySelector('#df-067b27ff-1647-4818-b6e1-d8b3bbead1e9 button.colab-df-convert');\n",
              "        buttonEl.style.display =\n",
              "          google.colab.kernel.accessAllowed ? 'block' : 'none';\n",
              "\n",
              "        async function convertToInteractive(key) {\n",
              "          const element = document.querySelector('#df-067b27ff-1647-4818-b6e1-d8b3bbead1e9');\n",
              "          const dataTable =\n",
              "            await google.colab.kernel.invokeFunction('convertToInteractive',\n",
              "                                                     [key], {});\n",
              "          if (!dataTable) return;\n",
              "\n",
              "          const docLinkHtml = 'Like what you see? Visit the ' +\n",
              "            '<a target=\"_blank\" href=https://colab.research.google.com/notebooks/data_table.ipynb>data table notebook</a>'\n",
              "            + ' to learn more about interactive tables.';\n",
              "          element.innerHTML = '';\n",
              "          dataTable['output_type'] = 'display_data';\n",
              "          await google.colab.output.renderOutput(dataTable, element);\n",
              "          const docLink = document.createElement('div');\n",
              "          docLink.innerHTML = docLinkHtml;\n",
              "          element.appendChild(docLink);\n",
              "        }\n",
              "      </script>\n",
              "    </div>\n",
              "  </div>\n",
              "  "
            ]
          },
          "metadata": {}
        }
      ]
    },
    {
      "cell_type": "code",
      "source": [],
      "metadata": {
        "id": "J61F9UBaXizW"
      },
      "execution_count": 38,
      "outputs": []
    }
  ]
}